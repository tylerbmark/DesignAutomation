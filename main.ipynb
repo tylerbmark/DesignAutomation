{
 "cells": [
  {
   "cell_type": "code",
   "execution_count": 2,
   "metadata": {},
   "outputs": [],
   "source": [
    "import pandas as pd\n",
    "from itertools import chain\n",
    "import os\n",
    "import argparse"
   ]
  },
  {
   "cell_type": "code",
   "execution_count": 3,
   "metadata": {},
   "outputs": [],
   "source": [
    "datafile='data.xlsx'\n",
    "df=pd.ExcelFile(datafile)\n",
    "# df.sheet_names\n",
    "sheet_names=df.sheet_names\n",
    "filename='Scripts/'"
   ]
  },
  {
   "cell_type": "code",
   "execution_count": 4,
   "metadata": {},
   "outputs": [],
   "source": [
    "def Convert(a):\n",
    "    it = iter(a)\n",
    "    res_dct = dict(zip(it, it))\n",
    "    return res_dct\n",
    "def data_to_dict(df_dict_i):\n",
    "    return Convert(list(chain.from_iterable(df_dict_i['data'])))"
   ]
  },
  {
   "cell_type": "code",
   "execution_count": 14,
   "metadata": {},
   "outputs": [
    {
     "name": "stdout",
     "output_type": "stream",
     "text": [
      "Neutronics\n",
      "TH\n",
      "Materials\n"
     ]
    }
   ],
   "source": [
    "for sheet_name in sheet_names:\n",
    "    df= pd.read_excel(datafile, sheet_name=sheet_name)\n",
    "    df_dict_i=df.to_dict(orient='split')\n",
    "    data_dict=data_to_dict(df_dict_i)\n",
    "    print(sheet_name)\n",
    "    for root, dirs, files in os.walk(filename+sheet_name+'/'+'variable_scripts/'):\n",
    "        for file in files:\n",
    "            abs_path=os.path.join(root, file)\n",
    "            fin=open(abs_path,\"rt\")\n",
    "            data=fin.read()\n",
    "            for i in list(data_dict.keys()):\n",
    "                data=data.replace('$'+i,str(data_dict[i]))\n",
    "            fin.close()\n",
    "            fname,ext=file.split('.')\n",
    "            new_name=filename+sheet_name+'/'+'new_scripts/'+fname+'_temp'+'.'+ext\n",
    "            fin=open(new_name,\"wt\")\n",
    "            fin.write(data)\n",
    "            fin.close()\n",
    "        # print(files)\n",
    "        "
   ]
  }
 ],
 "metadata": {
  "kernelspec": {
   "display_name": "design",
   "language": "python",
   "name": "python3"
  },
  "language_info": {
   "codemirror_mode": {
    "name": "ipython",
    "version": 3
   },
   "file_extension": ".py",
   "mimetype": "text/x-python",
   "name": "python",
   "nbconvert_exporter": "python",
   "pygments_lexer": "ipython3",
   "version": "3.9.15 (main, Nov 24 2022, 14:31:59) \n[GCC 11.2.0]"
  },
  "orig_nbformat": 4,
  "vscode": {
   "interpreter": {
    "hash": "d5940d90e1b3912590f9991e8f7fa67ee97b6e8f5a58c1cf6158a3e66506fcce"
   }
  }
 },
 "nbformat": 4,
 "nbformat_minor": 2
}
