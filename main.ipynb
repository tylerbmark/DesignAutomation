{
 "cells": [
  {
   "cell_type": "code",
   "execution_count": 9,
   "metadata": {},
   "outputs": [],
   "source": [
    "import pandas as pd\n",
    "from itertools import chain\n",
    "import os\n",
    "import argparse"
   ]
  },
  {
   "cell_type": "code",
   "execution_count": 18,
   "metadata": {},
   "outputs": [],
   "source": [
    "datafile='data.xlsx'\n",
    "df=pd.ExcelFile(datafile)\n",
    "# df.sheet_names\n",
    "sheet_names=', '.join(df.sheet_names)"
   ]
  },
  {
   "cell_type": "code",
   "execution_count": 24,
   "metadata": {},
   "outputs": [
    {
     "name": "stderr",
     "output_type": "stream",
     "text": [
      "usage: ipykernel_launcher.py [-h] --field FIELD\n",
      "ipykernel_launcher.py: error: unrecognized arguments: --ip=127.0.0.1 --stdin=9035 --control=9033 --hb=9032 --Session.signature_scheme=\"hmac-sha256\" --Session.key=b\"eb78c3bf-2486-4d1d-94ba-1d22aef33f84\" --shell=9034 --transport=\"tcp\" --iopub=9036\n"
     ]
    },
    {
     "ename": "SystemExit",
     "evalue": "2",
     "output_type": "error",
     "traceback": [
      "An exception has occurred, use %tb to see the full traceback.\n",
      "\u001b[0;31mSystemExit\u001b[0m\u001b[0;31m:\u001b[0m 2\n"
     ]
    }
   ],
   "source": [
    "parser=argparse.ArgumentParser(description=F'Choose: {sheet_names}')\n",
    "parser.add_argument('--field',type=str,required=True)\n",
    "args=parser.parse_args()\n",
    "# filename=args.field"
   ]
  }
 ],
 "metadata": {
  "kernelspec": {
   "display_name": "design",
   "language": "python",
   "name": "python3"
  },
  "language_info": {
   "codemirror_mode": {
    "name": "ipython",
    "version": 3
   },
   "file_extension": ".py",
   "mimetype": "text/x-python",
   "name": "python",
   "nbconvert_exporter": "python",
   "pygments_lexer": "ipython3",
   "version": "3.9.15"
  },
  "orig_nbformat": 4,
  "vscode": {
   "interpreter": {
    "hash": "d5940d90e1b3912590f9991e8f7fa67ee97b6e8f5a58c1cf6158a3e66506fcce"
   }
  }
 },
 "nbformat": 4,
 "nbformat_minor": 2
}
